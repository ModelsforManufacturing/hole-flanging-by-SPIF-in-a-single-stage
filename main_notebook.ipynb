{
 "cells": [
  {
   "cell_type": "markdown",
   "metadata": {},
   "source": [
    "# MfM simulator: hole-flanging-by-SPIF-in-a-single-stage\n",
    "\n",
    "## Simulation test using Jupyter Notebooks\n",
    "\n",
    "Importing `main` module and printing help:"
   ]
  },
  {
   "cell_type": "code",
   "execution_count": 1,
   "metadata": {},
   "outputs": [
    {
     "name": "stdout",
     "output_type": "stream",
     "text": [
      "MfM simulator: hole-flanging-by-SPIF-in-a-single-stage\n",
      "------------------------------------------------------\n",
      "List of Activities and Tasks:\n",
      "\n",
      "A0 - Produce a hole flanged part by SPIF in a single stage\n",
      "    A1 - Define NC Program\n",
      "        A11 - Update Design Part\n",
      "            T1 - Calculate Flange Height\n",
      "            T2 - Generate CAD Model\n",
      "        A12 - Generate NC\n",
      "            T1 - Create NC Model\n",
      "            T2 - Simulate NC Model\n",
      "            T3 - Generate NC Code\n",
      "    A2 - Simulate and Analyze SPIF Operation\n",
      "        A21 - Extract Tool Trajectory\n",
      "            T1 - Extract Tool Movements\n",
      "            T2 - Calculate Path Lengths and Times\n",
      "            T3 - Write Results\n",
      "        A22 - Simulate SPIF Process\n",
      "            T1 - Create Simulation Model\n",
      "            T2 - Run Simulation Model\n",
      "        A23 - Validate Simulation\n",
      "            T1 - Check Fracture\n",
      "            T2 - Check Simulated Flange\n",
      "        A24 - Analyze Simulation\n",
      "            T1 - Extract Strain Distribution\n",
      "            T2 - Find Fracture Location\n",
      "    A3 - Inspect Manufactured Part\n",
      "            T1 - Check Finished Flange\n",
      "            T2 - Measure Strain Distribution\n",
      "            T3 - Measure Thickness Profile\n",
      "            T4 - Make Fractographies\n",
      "------------------------------------------------------\n",
      "\n",
      "Example of usage:\n",
      "\n",
      "    main.py --instance instance01 --task a11t1\n",
      "\n",
      "where 'instance01' is the directory that contains 'data.ini'\n",
      "\n",
      "\n"
     ]
    }
   ],
   "source": [
    "import main\n",
    "print(main.description)"
   ]
  },
  {
   "cell_type": "markdown",
   "metadata": {},
   "source": [
    "## Importing `interfaces.interfaces_service` module"
   ]
  },
  {
   "cell_type": "code",
   "execution_count": 2,
   "metadata": {},
   "outputs": [
    {
     "name": "stdout",
     "output_type": "stream",
     "text": [
      "Executing A11 Update Design Part, T1 Calculate flange height\n",
      "   Output: flange height = 19.400000 mm\n"
     ]
    }
   ],
   "source": [
    "import interfaces.interfaces_service as service\n",
    "instance = 'instance01'"
   ]
  },
  {
   "cell_type": "markdown",
   "metadata": {},
   "source": [
    "## Executing a `Task`"
   ]
  },
  {
   "cell_type": "code",
   "execution_count": 7,
   "metadata": {},
   "outputs": [
    {
     "name": "stdout",
     "output_type": "stream",
     "text": [
      "Executing A11 Update Design Part, T1 Calculate flange height\n",
      "   Output: flange height = 19.400000 mm\n"
     ]
    }
   ],
   "source": [
    "print('Executing A11 Update Design Part, T1 Calculate flange height')\n",
    "h = service.calculate_flange_height(instance)\n",
    "print('   Output: flange height = %f mm' % h)"
   ]
  },
  {
   "cell_type": "markdown",
   "metadata": {},
   "source": [
    "## Executing a `Task`"
   ]
  },
  {
   "cell_type": "code",
   "execution_count": 3,
   "metadata": {},
   "outputs": [
    {
     "name": "stdout",
     "output_type": "stream",
     "text": [
      "Executing A21 Extract Tool Trajectory, T1 Extract Tool Movements\n",
      "   Output: feedrate_x_y_z = [['RAPID', 0.0, 0.0, 21.0], [1000.0, 0.0, 0.0, 1.0], [1000.0, 50.0, 0.0, 1.0], [1000.0, 45.53814, -2.00537, 2.0], [100.0, 45.53814, -2.00537, 0.8], [100.0, 45.53814, -2.00537, -0.2], [100.0, 45.65899, -2.00163, -0.2], [100.0, 45.7793, -1.99061, -0.2], [100.0, 45.89872, -1.97234, -0.2], [100.0, 46.01682, -1.9469, -0.2], [100.0, 46.13317, -1.91437, -0.2], [100.0, 46.24735, -1.87487, -0.2], [100.0, 46.35893, -1.82856, -0.2], [100.0, 46.46751, -1.77559, -0.2], [100.0, 46.5727, -1.71616, -0.2], [100.0, 46.6741, -1.65049, -0.2], [100.0, 46.77135, -1.57882, -0.2], [100.0, 46.8641, -1.5014, -0.2], [100.0, 46.95201, -1.41853, -0.2], [100.0, 47.03475, -1.3305, -0.2]] ...\n"
     ]
    }
   ],
   "source": [
    "print('Executing A21 Extract Tool Trajectory, T1 Extract Tool Movements')\n",
    "feedrate_x_y_z = service.extract_tool_movements(instance)\n",
    "print('   Output: feedrate_x_y_z = %s ...' % feedrate_x_y_z[:20])"
   ]
  },
  {
   "cell_type": "markdown",
   "metadata": {},
   "source": [
    "## Executing a `Task`"
   ]
  },
  {
   "cell_type": "code",
   "execution_count": 4,
   "metadata": {},
   "outputs": [
    {
     "name": "stdout",
     "output_type": "stream",
     "text": [
      "Executing A21 Extract Tool Trajectory, T2 Calculate Path Lengths and Times\n",
      "   Output: time_x_y_z = [[0, -25.95209, 125.11428, 30.0], [0.64047, 0.0, 0.0, 21.0], [1.84047, 0.0, 0.0, 1.0], [4.84047, 50.0, 0.0, 1.0], [5.14005, 45.53814, -2.00537, 2.0], [5.86005, 45.53814, -2.00537, 0.8], [6.46005, 45.53814, -2.00537, -0.2], [6.53259, 45.65899, -2.00163, -0.2], [6.60508, 45.7793, -1.99061, -0.2], [6.67757, 45.89872, -1.97234, -0.2], [6.75006, 46.01682, -1.9469, -0.2], [6.82255, 46.13317, -1.91437, -0.2], [6.89504, 46.24735, -1.87487, -0.2], [6.96753, 46.35893, -1.82856, -0.2], [7.04002, 46.46751, -1.77559, -0.2], [7.11251, 46.5727, -1.71616, -0.2], [7.18499, 46.6741, -1.65049, -0.2], [7.25747, 46.77135, -1.57882, -0.2], [7.32996, 46.8641, -1.5014, -0.2], [7.40245, 46.95201, -1.41853, -0.2]] ...\n"
     ]
    }
   ],
   "source": [
    "print('Executing A21 Extract Tool Trajectory, T2 Calculate Path Lengths and Times')\n",
    "time_x_y_z = service.calculate_path_lengths_and_times(instance)\n",
    "print('   Output: time_x_y_z = %s ...' % time_x_y_z[:20])"
   ]
  },
  {
   "cell_type": "markdown",
   "metadata": {},
   "source": [
    "## Executing a `Task`"
   ]
  },
  {
   "cell_type": "code",
   "execution_count": 5,
   "metadata": {},
   "outputs": [
    {
     "name": "stdout",
     "output_type": "stream",
     "text": [
      "Executing A21 Extract Tool Trajectory, T3 Write Results\n",
      "   Output: toolpath_code = (toolpath-from.csv, toolpath-x.csv, toolpath-y.csv, toolpath-z.csv)\n"
     ]
    }
   ],
   "source": [
    "print('Executing A21 Extract Tool Trajectory, T3 Write Results')\n",
    "toolpath_code = service.write_results(instance)\n",
    "print('   Output: toolpath_code = %s' % toolpath_code)"
   ]
  },
  {
   "cell_type": "code",
   "execution_count": null,
   "metadata": {},
   "outputs": [],
   "source": []
  }
 ],
 "metadata": {
  "kernelspec": {
   "display_name": "Python 3 (ipykernel)",
   "language": "python",
   "name": "python3"
  },
  "language_info": {
   "codemirror_mode": {
    "name": "ipython",
    "version": 3
   },
   "file_extension": ".py",
   "mimetype": "text/x-python",
   "name": "python",
   "nbconvert_exporter": "python",
   "pygments_lexer": "ipython3",
   "version": "3.9.12"
  }
 },
 "nbformat": 4,
 "nbformat_minor": 4
}
