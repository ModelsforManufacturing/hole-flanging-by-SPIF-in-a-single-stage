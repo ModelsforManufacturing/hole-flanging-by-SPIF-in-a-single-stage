{
 "cells": [
  {
   "cell_type": "markdown",
   "metadata": {},
   "source": [
    "# MfM simulator: hole-flanging-by-SPIF-in-a-single-stage\n",
    "\n",
    "Simulation test using Jupyter Notebooks.\n",
    "\n",
    "**Tip**: use the `table of contents` in the left sidebar to better see and navigate the structure of this document.\n",
    "\n",
    "## Usage instructions\n",
    "\n",
    "Run the cell below (`Alt`+`Enter`) to execute the `--help` option of the simulation program. This will print the program instructions which includes the list of actions that can be executed."
   ]
  },
  {
   "cell_type": "code",
   "execution_count": null,
   "metadata": {},
   "outputs": [],
   "source": [
    "%run -i main.py --help"
   ]
  },
  {
   "cell_type": "markdown",
   "metadata": {},
   "source": [
    "<a id='summary'></a>\n",
    "## Summary of experimental tests\n",
    "\n",
    "Run the cell below to execute the `--list` option of the simulation program. This will print a table with the main parameters of the experimental tests."
   ]
  },
  {
   "cell_type": "code",
   "execution_count": null,
   "metadata": {},
   "outputs": [],
   "source": [
    "%run -i main.py --list"
   ]
  },
  {
   "cell_type": "markdown",
   "metadata": {},
   "source": [
    "<a id='state'></a>\n",
    "## Process state of an experimental test\n",
    "\n",
    "Select an `instance` name on the cell below and run the cell to print its process `status`."
   ]
  },
  {
   "cell_type": "code",
   "execution_count": null,
   "metadata": {},
   "outputs": [],
   "source": [
    "%run -i main.py --instance R6-d645 --status"
   ]
  },
  {
   "cell_type": "markdown",
   "metadata": {},
   "source": [
    "## Performing a new experimental test\n",
    "\n",
    "Run the cells below to perform a complete program simulation.\n",
    "\n",
    "**Tip**: You can also run the cells above ([summary](#summary) and [state](#state)) to get feedback after each action run.\n",
    "\n",
    "### Action: new experimental test\n",
    "\n",
    "Suppose that a new test is going to be carried out with a **blank sheet of hole diameter 65 mm** and a **punch of radius 8 mm**. The test will be named `R8_d65`. Run the cell below and introduce the parameter values.\n"
   ]
  },
  {
   "cell_type": "code",
   "execution_count": null,
   "metadata": {},
   "outputs": [],
   "source": [
    "%run -i main.py -i R8-d65 -a 1"
   ]
  },
  {
   "cell_type": "markdown",
   "metadata": {},
   "source": [
    "### Action: prepare specimen\n",
    "\n",
    "This action simply displays information about how to manufacture the specimen and waits for confirmation that it is already made."
   ]
  },
  {
   "cell_type": "code",
   "execution_count": null,
   "metadata": {},
   "outputs": [],
   "source": [
    "%run -i main.py -i R8-d65 -a 2"
   ]
  },
  {
   "cell_type": "markdown",
   "metadata": {},
   "source": [
    "### Action: perform hole flanging test\n",
    "\n",
    "This action simply displays information on how to perform the experimental test and waits for information on whether a fracture is observed in the tested part."
   ]
  },
  {
   "cell_type": "code",
   "execution_count": null,
   "metadata": {},
   "outputs": [],
   "source": [
    "%run -i main.py -i R8-d65 -a 3"
   ]
  },
  {
   "cell_type": "markdown",
   "metadata": {
    "tags": []
   },
   "source": [
    "### Action: measure flange height\n",
    "\n",
    "Run the cell below and enter a **flange height of 19 mm**."
   ]
  },
  {
   "cell_type": "code",
   "execution_count": null,
   "metadata": {
    "tags": []
   },
   "outputs": [],
   "source": [
    "%run -i main.py -i R8-d65 -a 4"
   ]
  },
  {
   "cell_type": "markdown",
   "metadata": {
    "tags": []
   },
   "source": [
    "### Action: measure strain distribution\n",
    "\n",
    "This action requests a file with the strain distribution measured on the specimen. The data in the file will later be represented in an FLD (Forming Limit Diagram)."
   ]
  },
  {
   "cell_type": "code",
   "execution_count": null,
   "metadata": {
    "tags": []
   },
   "outputs": [],
   "source": [
    "%run -i main.py -i R8-d65 -a 5"
   ]
  },
  {
   "cell_type": "markdown",
   "metadata": {
    "tags": []
   },
   "source": [
    "### Action: process experimental results and plot diagrams\n",
    "\n",
    "This action calculates test variables and presents results in various diagrams."
   ]
  },
  {
   "cell_type": "code",
   "execution_count": null,
   "metadata": {
    "tags": []
   },
   "outputs": [],
   "source": [
    "%run -i main.py -i R8-d65 -a 6"
   ]
  },
  {
   "cell_type": "markdown",
   "metadata": {
    "tags": []
   },
   "source": [
    "### Action: analyze results\n",
    "\n",
    "This action displays different results and prompts for conclusions about them."
   ]
  },
  {
   "cell_type": "code",
   "execution_count": null,
   "metadata": {
    "tags": []
   },
   "outputs": [],
   "source": [
    "%run -i main.py -i R8-d65 -a 7"
   ]
  }
 ],
 "metadata": {
  "kernelspec": {
   "display_name": "Python 3 (ipykernel)",
   "language": "python",
   "name": "python3"
  },
  "language_info": {
   "codemirror_mode": {
    "name": "ipython",
    "version": 3
   },
   "file_extension": ".py",
   "mimetype": "text/x-python",
   "name": "python",
   "nbconvert_exporter": "python",
   "pygments_lexer": "ipython3",
   "version": "3.10.4"
  },
  "toc-autonumbering": false,
  "toc-showmarkdowntxt": false
 },
 "nbformat": 4,
 "nbformat_minor": 4
}
